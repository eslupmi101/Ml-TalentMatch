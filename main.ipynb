{
 "cells": [
  {
   "cell_type": "code",
   "execution_count": 7,
   "id": "39d45c40-0ed9-466a-a300-49e3a2a0022f",
   "metadata": {},
   "outputs": [],
   "source": [
    "import pandas as pd\n",
    "# from langchain import PromptTemplate\n",
    "\n",
    "# from langchain.prompts import ChatPromptTemplate\n",
    "# from langchain.output_parsers import ResponseSchema\n",
    "# from langchain.output_parsers import StructuredOutputParser\n",
    "\n",
    "# from langchain_community.document_loaders import UnstructuredPDFLoader\n",
    "\n",
    "\n",
    "# !wget https://raw.githubusercontent.com/a-milenkin/LLM_practical_course/main/notebooks/utils.py\n",
    "\n",
    "from langchain.schema import HumanMessage, SystemMessage\n",
    "from langchain.chat_models.gigachat import GigaChat\n",
    "# from utils import ChatOpenAI"
   ]
  },
  {
   "cell_type": "code",
   "execution_count": null,
   "id": "1ae95383-ecf6-4dc6-a2c5-bf136e4e7976",
   "metadata": {},
   "outputs": [],
   "source": [
    "gigachad = GigaChat(credentials=, scope=\"GIGACHAT_API_PERS\")\n"
   ]
  },
  {
   "cell_type": "code",
   "execution_count": null,
   "id": "58955053-9586-4fdd-8b87-35943e48b7f2",
   "metadata": {},
   "outputs": [],
   "source": []
  }
 ],
 "metadata": {
  "kernelspec": {
   "display_name": "gigachad",
   "language": "python",
   "name": "gigachad"
  },
  "language_info": {
   "codemirror_mode": {
    "name": "ipython",
    "version": 3
   },
   "file_extension": ".py",
   "mimetype": "text/x-python",
   "name": "python",
   "nbconvert_exporter": "python",
   "pygments_lexer": "ipython3",
   "version": "3.11.5"
  }
 },
 "nbformat": 4,
 "nbformat_minor": 5
}
